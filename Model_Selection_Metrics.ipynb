{
 "cells": [
  {
   "cell_type": "code",
   "execution_count": 1,
   "id": "29197846-d1ab-41d4-aadd-250e5d689ed1",
   "metadata": {
    "colab": {
     "base_uri": "https://localhost:8080/"
    },
    "id": "29197846-d1ab-41d4-aadd-250e5d689ed1",
    "outputId": "8b2e1a20-78f2-4c70-9b3d-2f0718e0093b"
   },
   "outputs": [
    {
     "name": "stdout",
     "output_type": "stream",
     "text": [
      "Defaulting to user installation because normal site-packages is not writeable\n",
      "Requirement already satisfied: transformers in /home/asachd14/.local/lib/python3.11/site-packages (4.34.1)\n",
      "Requirement already satisfied: filelock in /home/asachd14/.local/lib/python3.11/site-packages (from transformers) (3.12.4)\n",
      "Requirement already satisfied: huggingface-hub<1.0,>=0.16.4 in /home/asachd14/.local/lib/python3.11/site-packages (from transformers) (0.17.3)\n",
      "Requirement already satisfied: numpy>=1.17 in /packages/apps/jupyter/2023-10-09/lib/python3.11/site-packages (from transformers) (1.26.0)\n",
      "Requirement already satisfied: packaging>=20.0 in /packages/apps/jupyter/2023-10-09/lib/python3.11/site-packages (from transformers) (23.0)\n",
      "Requirement already satisfied: pyyaml>=5.1 in /packages/apps/jupyter/2023-10-09/lib/python3.11/site-packages (from transformers) (6.0.1)\n",
      "Requirement already satisfied: regex!=2019.12.17 in /home/asachd14/.local/lib/python3.11/site-packages (from transformers) (2023.10.3)\n",
      "Requirement already satisfied: requests in /packages/apps/jupyter/2023-10-09/lib/python3.11/site-packages (from transformers) (2.29.0)\n",
      "Requirement already satisfied: tokenizers<0.15,>=0.14 in /home/asachd14/.local/lib/python3.11/site-packages (from transformers) (0.14.1)\n",
      "Requirement already satisfied: safetensors>=0.3.1 in /home/asachd14/.local/lib/python3.11/site-packages (from transformers) (0.4.0)\n",
      "Requirement already satisfied: tqdm>=4.27 in /home/asachd14/.local/lib/python3.11/site-packages (from transformers) (4.66.1)\n",
      "Requirement already satisfied: fsspec in /packages/apps/jupyter/2023-10-09/lib/python3.11/site-packages (from huggingface-hub<1.0,>=0.16.4->transformers) (2023.9.2)\n",
      "Requirement already satisfied: typing-extensions>=3.7.4.3 in /packages/apps/jupyter/2023-10-09/lib/python3.11/site-packages (from huggingface-hub<1.0,>=0.16.4->transformers) (4.8.0)\n",
      "Requirement already satisfied: charset-normalizer<4,>=2 in /packages/apps/jupyter/2023-10-09/lib/python3.11/site-packages (from requests->transformers) (2.0.4)\n",
      "Requirement already satisfied: idna<4,>=2.5 in /packages/apps/jupyter/2023-10-09/lib/python3.11/site-packages (from requests->transformers) (3.4)\n",
      "Requirement already satisfied: urllib3<1.27,>=1.21.1 in /packages/apps/jupyter/2023-10-09/lib/python3.11/site-packages (from requests->transformers) (1.26.16)\n",
      "Requirement already satisfied: certifi>=2017.4.17 in /packages/apps/jupyter/2023-10-09/lib/python3.11/site-packages (from requests->transformers) (2023.7.22)\n"
     ]
    }
   ],
   "source": [
    "!pip install transformers"
   ]
  },
  {
   "cell_type": "code",
   "execution_count": 22,
   "id": "02765719-dacd-45dd-a7d9-235c2a05ddda",
   "metadata": {
    "colab": {
     "base_uri": "https://localhost:8080/"
    },
    "id": "02765719-dacd-45dd-a7d9-235c2a05ddda",
    "outputId": "39d4f3ef-809e-46c0-f542-203c9453cf0c"
   },
   "outputs": [
    {
     "name": "stdout",
     "output_type": "stream",
     "text": [
      "Defaulting to user installation because normal site-packages is not writeable\n",
      "Requirement already satisfied: tqdm in /home/asachd14/.local/lib/python3.10/site-packages (4.66.1)\n",
      "Requirement already satisfied: rouge in /home/asachd14/.local/lib/python3.10/site-packages (1.0.1)\n",
      "Collecting bert-score\n",
      "  Using cached bert_score-0.3.13-py3-none-any.whl (61 kB)\n",
      "Requirement already satisfied: six in /packages/envs/pytorch-gpu-1.13.1/lib/python3.10/site-packages (from rouge) (1.16.0)\n",
      "Requirement already satisfied: torch>=1.0.0 in /packages/envs/pytorch-gpu-1.13.1/lib/python3.10/site-packages (from bert-score) (1.13.1)\n",
      "Requirement already satisfied: pandas>=1.0.1 in /packages/envs/pytorch-gpu-1.13.1/lib/python3.10/site-packages (from bert-score) (2.1.1)\n",
      "Requirement already satisfied: transformers>=3.0.0 in /home/asachd14/.local/lib/python3.10/site-packages (from bert-score) (4.34.1)\n",
      "Requirement already satisfied: numpy in /packages/envs/pytorch-gpu-1.13.1/lib/python3.10/site-packages (from bert-score) (1.26.0)\n",
      "Requirement already satisfied: requests in /packages/envs/pytorch-gpu-1.13.1/lib/python3.10/site-packages (from bert-score) (2.31.0)\n",
      "Requirement already satisfied: matplotlib in /packages/envs/pytorch-gpu-1.13.1/lib/python3.10/site-packages (from bert-score) (3.8.0)\n",
      "Requirement already satisfied: packaging>=20.9 in /packages/envs/pytorch-gpu-1.13.1/lib/python3.10/site-packages (from bert-score) (23.1)\n",
      "Requirement already satisfied: python-dateutil>=2.8.2 in /packages/envs/pytorch-gpu-1.13.1/lib/python3.10/site-packages (from pandas>=1.0.1->bert-score) (2.8.2)\n",
      "Requirement already satisfied: pytz>=2020.1 in /packages/envs/pytorch-gpu-1.13.1/lib/python3.10/site-packages (from pandas>=1.0.1->bert-score) (2023.3.post1)\n",
      "Requirement already satisfied: tzdata>=2022.1 in /packages/envs/pytorch-gpu-1.13.1/lib/python3.10/site-packages (from pandas>=1.0.1->bert-score) (2023.3)\n",
      "Requirement already satisfied: typing_extensions in /packages/envs/pytorch-gpu-1.13.1/lib/python3.10/site-packages (from torch>=1.0.0->bert-score) (4.8.0)\n",
      "Requirement already satisfied: filelock in /home/asachd14/.local/lib/python3.10/site-packages (from transformers>=3.0.0->bert-score) (3.12.4)\n",
      "Requirement already satisfied: huggingface-hub<1.0,>=0.16.4 in /home/asachd14/.local/lib/python3.10/site-packages (from transformers>=3.0.0->bert-score) (0.17.3)\n",
      "Requirement already satisfied: pyyaml>=5.1 in /packages/envs/pytorch-gpu-1.13.1/lib/python3.10/site-packages (from transformers>=3.0.0->bert-score) (6.0.1)\n",
      "Requirement already satisfied: regex!=2019.12.17 in /home/asachd14/.local/lib/python3.10/site-packages (from transformers>=3.0.0->bert-score) (2023.10.3)\n",
      "Requirement already satisfied: tokenizers<0.15,>=0.14 in /home/asachd14/.local/lib/python3.10/site-packages (from transformers>=3.0.0->bert-score) (0.14.1)\n",
      "Requirement already satisfied: safetensors>=0.3.1 in /home/asachd14/.local/lib/python3.10/site-packages (from transformers>=3.0.0->bert-score) (0.4.0)\n",
      "Requirement already satisfied: contourpy>=1.0.1 in /packages/envs/pytorch-gpu-1.13.1/lib/python3.10/site-packages (from matplotlib->bert-score) (1.1.1)\n",
      "Requirement already satisfied: cycler>=0.10 in /packages/envs/pytorch-gpu-1.13.1/lib/python3.10/site-packages (from matplotlib->bert-score) (0.11.0)\n",
      "Requirement already satisfied: fonttools>=4.22.0 in /packages/envs/pytorch-gpu-1.13.1/lib/python3.10/site-packages (from matplotlib->bert-score) (4.42.1)\n",
      "Requirement already satisfied: kiwisolver>=1.0.1 in /packages/envs/pytorch-gpu-1.13.1/lib/python3.10/site-packages (from matplotlib->bert-score) (1.4.5)\n",
      "Requirement already satisfied: pillow>=6.2.0 in /packages/envs/pytorch-gpu-1.13.1/lib/python3.10/site-packages (from matplotlib->bert-score) (8.4.0)\n",
      "Requirement already satisfied: pyparsing>=2.3.1 in /packages/envs/pytorch-gpu-1.13.1/lib/python3.10/site-packages (from matplotlib->bert-score) (3.1.1)\n",
      "Requirement already satisfied: charset-normalizer<4,>=2 in /packages/envs/pytorch-gpu-1.13.1/lib/python3.10/site-packages (from requests->bert-score) (3.2.0)\n",
      "Requirement already satisfied: idna<4,>=2.5 in /packages/envs/pytorch-gpu-1.13.1/lib/python3.10/site-packages (from requests->bert-score) (3.4)\n",
      "Requirement already satisfied: urllib3<3,>=1.21.1 in /packages/envs/pytorch-gpu-1.13.1/lib/python3.10/site-packages (from requests->bert-score) (2.0.5)\n",
      "Requirement already satisfied: certifi>=2017.4.17 in /packages/envs/pytorch-gpu-1.13.1/lib/python3.10/site-packages (from requests->bert-score) (2023.7.22)\n",
      "Requirement already satisfied: fsspec in /packages/envs/pytorch-gpu-1.13.1/lib/python3.10/site-packages (from huggingface-hub<1.0,>=0.16.4->transformers>=3.0.0->bert-score) (2023.9.2)\n",
      "Installing collected packages: bert-score\n",
      "Successfully installed bert-score-0.3.13\n",
      "Note: you may need to restart the kernel to use updated packages.\n"
     ]
    }
   ],
   "source": [
    "pip install tqdm rouge bert-score\n"
   ]
  },
  {
   "cell_type": "code",
   "execution_count": 3,
   "id": "94555299-1ac0-48e3-9292-0476fcc49d7d",
   "metadata": {
    "colab": {
     "base_uri": "https://localhost:8080/"
    },
    "id": "94555299-1ac0-48e3-9292-0476fcc49d7d",
    "outputId": "4e94aaba-adaa-4ec8-dc07-152d85c6746b"
   },
   "outputs": [
    {
     "name": "stdout",
     "output_type": "stream",
     "text": [
      "Defaulting to user installation because normal site-packages is not writeable\n",
      "Requirement already satisfied: sentencepiece in /home/asachd14/.local/lib/python3.10/site-packages (0.1.99)\n",
      "Note: you may need to restart the kernel to use updated packages.\n"
     ]
    }
   ],
   "source": [
    "pip install sentencepiece"
   ]
  },
  {
   "cell_type": "code",
   "execution_count": 4,
   "id": "d6aa541a-3727-431c-93e0-f19a7b2d6a0b",
   "metadata": {
    "colab": {
     "base_uri": "https://localhost:8080/"
    },
    "id": "d6aa541a-3727-431c-93e0-f19a7b2d6a0b",
    "outputId": "3aee36d9-7c94-41eb-91dc-080fd5b66fdd"
   },
   "outputs": [],
   "source": [
    "#QG model from Hugging face\n",
    "# from tqdm import tqdm\n",
    "# from transformers import T5Config, T5ForConditionalGeneration, T5Tokenizer\n",
    "\n",
    "# model_name = \"allenai/t5-small-squad2-question-generation\"\n",
    "# tokenizer = T5Tokenizer.from_pretrained(model_name)\n",
    "# model = T5ForConditionalGeneration.from_pretrained(model_name)\n",
    "\n",
    "# def run_model(input_string, **generator_args):\n",
    "#     input_ids = tokenizer.encode(input_string, return_tensors=\"pt\")\n",
    "#     res = model.generate(input_ids, **generator_args)\n",
    "#     output = tokenizer.batch_decode(res, skip_special_tokens=True)\n",
    "#     #print(output)\n",
    "#     return output\n"
   ]
  },
  {
   "cell_type": "code",
   "execution_count": 5,
   "id": "bac1b6bb-8a44-423d-beb4-d10ec5fa11c6",
   "metadata": {},
   "outputs": [
    {
     "name": "stdout",
     "output_type": "stream",
     "text": [
      "Defaulting to user installation because normal site-packages is not writeable\n",
      "Requirement already satisfied: pipeline in /home/asachd14/.local/lib/python3.11/site-packages (0.1.0)\n"
     ]
    }
   ],
   "source": [
    "!pip install pipeline"
   ]
  },
  {
   "cell_type": "code",
   "execution_count": 6,
   "id": "cb01fe8f-82b0-469f-9bde-065ea94523c2",
   "metadata": {},
   "outputs": [],
   "source": [
    "# Load model directly\n",
    "from transformers import AutoTokenizer, AutoModelForSeq2SeqLM\n",
    "tokenizer = AutoTokenizer.from_pretrained(\"anas-awadalla/bart-base-finetuned-squad-seq2seq\")\n",
    "model = AutoModelForSeq2SeqLM.from_pretrained(\"anas-awadalla/bart-base-finetuned-squad-seq2seq\")\n",
    "def run_model(input_string, **generator_args):\n",
    "    input_ids = tokenizer.encode(input_string, return_tensors=\"pt\")\n",
    "    res = model.generate(input_ids, **generator_args)\n",
    "    output = tokenizer.batch_decode(res, skip_special_tokens=True)\n",
    "    #print(output)\n",
    "    return output\n"
   ]
  },
  {
   "cell_type": "code",
   "execution_count": 7,
   "id": "7dd07926-9c50-4dfb-ab7a-5de70f5ac06b",
   "metadata": {
    "colab": {
     "base_uri": "https://localhost:8080/"
    },
    "id": "7dd07926-9c50-4dfb-ab7a-5de70f5ac06b",
    "outputId": "b37a6a05-94b1-4dbf-acca-a5436cdfeda0"
   },
   "outputs": [
    {
     "name": "stdout",
     "output_type": "stream",
     "text": [
      "Defaulting to user installation because normal site-packages is not writeable\n",
      "Requirement already satisfied: datasets in /home/asachd14/.local/lib/python3.11/site-packages (2.14.6)\n",
      "Requirement already satisfied: numpy>=1.17 in /packages/apps/jupyter/2023-10-09/lib/python3.11/site-packages (from datasets) (1.26.0)\n",
      "Requirement already satisfied: pyarrow>=8.0.0 in /packages/apps/jupyter/2023-10-09/lib/python3.11/site-packages (from datasets) (13.0.0)\n",
      "Requirement already satisfied: dill<0.3.8,>=0.3.0 in /home/asachd14/.local/lib/python3.11/site-packages (from datasets) (0.3.7)\n",
      "Requirement already satisfied: pandas in /packages/apps/jupyter/2023-10-09/lib/python3.11/site-packages (from datasets) (2.1.1)\n",
      "Requirement already satisfied: requests>=2.19.0 in /packages/apps/jupyter/2023-10-09/lib/python3.11/site-packages (from datasets) (2.29.0)\n",
      "Requirement already satisfied: tqdm>=4.62.1 in /home/asachd14/.local/lib/python3.11/site-packages (from datasets) (4.66.1)\n",
      "Requirement already satisfied: xxhash in /home/asachd14/.local/lib/python3.11/site-packages (from datasets) (3.4.1)\n",
      "Requirement already satisfied: multiprocess in /home/asachd14/.local/lib/python3.11/site-packages (from datasets) (0.70.15)\n",
      "Requirement already satisfied: fsspec[http]<=2023.10.0,>=2023.1.0 in /packages/apps/jupyter/2023-10-09/lib/python3.11/site-packages (from datasets) (2023.9.2)\n",
      "Requirement already satisfied: aiohttp in /home/asachd14/.local/lib/python3.11/site-packages (from datasets) (3.8.6)\n",
      "Requirement already satisfied: huggingface-hub<1.0.0,>=0.14.0 in /home/asachd14/.local/lib/python3.11/site-packages (from datasets) (0.17.3)\n",
      "Requirement already satisfied: packaging in /packages/apps/jupyter/2023-10-09/lib/python3.11/site-packages (from datasets) (23.0)\n",
      "Requirement already satisfied: pyyaml>=5.1 in /packages/apps/jupyter/2023-10-09/lib/python3.11/site-packages (from datasets) (6.0.1)\n",
      "Requirement already satisfied: attrs>=17.3.0 in /packages/apps/jupyter/2023-10-09/lib/python3.11/site-packages (from aiohttp->datasets) (23.1.0)\n",
      "Requirement already satisfied: charset-normalizer<4.0,>=2.0 in /packages/apps/jupyter/2023-10-09/lib/python3.11/site-packages (from aiohttp->datasets) (2.0.4)\n",
      "Requirement already satisfied: multidict<7.0,>=4.5 in /home/asachd14/.local/lib/python3.11/site-packages (from aiohttp->datasets) (6.0.4)\n",
      "Requirement already satisfied: async-timeout<5.0,>=4.0.0a3 in /home/asachd14/.local/lib/python3.11/site-packages (from aiohttp->datasets) (4.0.3)\n",
      "Requirement already satisfied: yarl<2.0,>=1.0 in /home/asachd14/.local/lib/python3.11/site-packages (from aiohttp->datasets) (1.9.2)\n",
      "Requirement already satisfied: frozenlist>=1.1.1 in /home/asachd14/.local/lib/python3.11/site-packages (from aiohttp->datasets) (1.4.0)\n",
      "Requirement already satisfied: aiosignal>=1.1.2 in /home/asachd14/.local/lib/python3.11/site-packages (from aiohttp->datasets) (1.3.1)\n",
      "Requirement already satisfied: filelock in /home/asachd14/.local/lib/python3.11/site-packages (from huggingface-hub<1.0.0,>=0.14.0->datasets) (3.12.4)\n",
      "Requirement already satisfied: typing-extensions>=3.7.4.3 in /packages/apps/jupyter/2023-10-09/lib/python3.11/site-packages (from huggingface-hub<1.0.0,>=0.14.0->datasets) (4.8.0)\n",
      "Requirement already satisfied: idna<4,>=2.5 in /packages/apps/jupyter/2023-10-09/lib/python3.11/site-packages (from requests>=2.19.0->datasets) (3.4)\n",
      "Requirement already satisfied: urllib3<1.27,>=1.21.1 in /packages/apps/jupyter/2023-10-09/lib/python3.11/site-packages (from requests>=2.19.0->datasets) (1.26.16)\n",
      "Requirement already satisfied: certifi>=2017.4.17 in /packages/apps/jupyter/2023-10-09/lib/python3.11/site-packages (from requests>=2.19.0->datasets) (2023.7.22)\n",
      "Requirement already satisfied: python-dateutil>=2.8.2 in /packages/apps/jupyter/2023-10-09/lib/python3.11/site-packages (from pandas->datasets) (2.8.2)\n",
      "Requirement already satisfied: pytz>=2020.1 in /packages/apps/jupyter/2023-10-09/lib/python3.11/site-packages (from pandas->datasets) (2023.3.post1)\n",
      "Requirement already satisfied: tzdata>=2022.1 in /packages/apps/jupyter/2023-10-09/lib/python3.11/site-packages (from pandas->datasets) (2023.3)\n",
      "Requirement already satisfied: six>=1.5 in /packages/apps/jupyter/2023-10-09/lib/python3.11/site-packages (from python-dateutil>=2.8.2->pandas->datasets) (1.16.0)\n"
     ]
    }
   ],
   "source": [
    "#for data_squad_v2\n",
    "!pip install datasets"
   ]
  },
  {
   "cell_type": "code",
   "execution_count": 8,
   "id": "616469e2-74bf-4ed0-ad6b-b61ba62644ea",
   "metadata": {
    "id": "616469e2-74bf-4ed0-ad6b-b61ba62644ea"
   },
   "outputs": [],
   "source": [
    "from datasets import load_dataset\n",
    "squads_v2 = load_dataset(\"squad_v2\")"
   ]
  },
  {
   "cell_type": "code",
   "execution_count": 9,
   "id": "f0454d8d-61e3-4c7b-ab9b-fad9fe54bd3d",
   "metadata": {
    "id": "f0454d8d-61e3-4c7b-ab9b-fad9fe54bd3d"
   },
   "outputs": [],
   "source": [
    "import torch\n",
    "import datasets\n",
    "\n",
    "train_data = squads_v2[\"train\"]\n"
   ]
  },
  {
   "cell_type": "code",
   "execution_count": 10,
   "id": "c997d984-1958-403d-8d08-2d91a823654b",
   "metadata": {
    "colab": {
     "base_uri": "https://localhost:8080/"
    },
    "id": "c997d984-1958-403d-8d08-2d91a823654b",
    "outputId": "0483b2a0-a2d0-4aea-904c-0b3b09474751"
   },
   "outputs": [],
   "source": [
    "#print(train_data[0])"
   ]
  },
  {
   "cell_type": "code",
   "execution_count": 11,
   "id": "e5e0680d-9d97-4a05-b776-e2d97978007f",
   "metadata": {
    "colab": {
     "base_uri": "https://localhost:8080/"
    },
    "id": "e5e0680d-9d97-4a05-b776-e2d97978007f",
    "outputId": "206257ec-df87-45f2-caef-d1e7bc625122"
   },
   "outputs": [
    {
     "name": "stdout",
     "output_type": "stream",
     "text": [
      "cuda\n"
     ]
    }
   ],
   "source": [
    "# Check for GPU availability\n",
    "device = torch.device(\"cuda\" if torch.cuda.is_available() else \"cpu\")\n",
    "print(device)"
   ]
  },
  {
   "cell_type": "code",
   "execution_count": 12,
   "id": "f41a3a3e-464b-43b4-944d-3a428803f73c",
   "metadata": {
    "colab": {
     "base_uri": "https://localhost:8080/"
    },
    "id": "f41a3a3e-464b-43b4-944d-3a428803f73c",
    "outputId": "63f10c27-8684-4a89-aba1-ff0732d54ed7",
    "scrolled": true
   },
   "outputs": [
    {
     "name": "stdout",
     "output_type": "stream",
     "text": [
      "Defaulting to user installation because normal site-packages is not writeable\n",
      "Requirement already satisfied: nltk in /home/asachd14/.local/lib/python3.11/site-packages (3.8.1)\n",
      "Requirement already satisfied: click in /packages/apps/jupyter/2023-10-09/lib/python3.11/site-packages (from nltk) (8.1.7)\n",
      "Requirement already satisfied: joblib in /packages/apps/jupyter/2023-10-09/lib/python3.11/site-packages (from nltk) (1.3.2)\n",
      "Requirement already satisfied: regex>=2021.8.3 in /home/asachd14/.local/lib/python3.11/site-packages (from nltk) (2023.10.3)\n",
      "Requirement already satisfied: tqdm in /home/asachd14/.local/lib/python3.11/site-packages (from nltk) (4.66.1)\n"
     ]
    }
   ],
   "source": [
    "#for metrics\n",
    "!pip install nltk"
   ]
  },
  {
   "cell_type": "code",
   "execution_count": 13,
   "id": "08acafb7-6d3a-4c2b-bfb1-9636df96fa42",
   "metadata": {
    "id": "08acafb7-6d3a-4c2b-bfb1-9636df96fa42"
   },
   "outputs": [],
   "source": [
    "from nltk.tokenize import word_tokenize"
   ]
  },
  {
   "cell_type": "code",
   "execution_count": 14,
   "id": "abd3469b-953f-435e-a391-057ec538faca",
   "metadata": {
    "colab": {
     "base_uri": "https://localhost:8080/"
    },
    "id": "abd3469b-953f-435e-a391-057ec538faca",
    "outputId": "d92424f8-ade5-4957-ec7e-2cb461e61b6c"
   },
   "outputs": [],
   "source": [
    "# from nltk.translate import meteor_score\n",
    "# import nltk\n",
    "# nltk.download('punkt')\n",
    "# nltk.download('wordnet')\n",
    "# reference = [nltk.word_tokenize(train_data[0]['question'])]\n",
    "# hypothesis_array = run_model(train_data[0]['context'])\n",
    "# final_hypothesis_array = []\n",
    "# for item in hypothesis_array:\n",
    "#     hypothesis = nltk.word_tokenize(item)\n",
    "#     final_hypothesis_array.append(hypothesis)\n",
    "\n",
    "# print(final_hypothesis_array)\n",
    "# # Calculate METEOR score\n",
    "# meteor = 0\n",
    "# for item in final_hypothesis_array:\n",
    "#     meteor = max(meteor_score.meteor_score(reference, item), meteor)\n",
    "\n",
    "# print(f\"METEOR Score: {meteor:.2f}\")\n"
   ]
  },
  {
   "cell_type": "code",
   "execution_count": 15,
   "id": "13ed8da8-ae60-41f7-8cdf-3be15ca89f47",
   "metadata": {},
   "outputs": [],
   "source": [
    "import tqdm"
   ]
  },
  {
   "cell_type": "code",
   "execution_count": 18,
   "id": "42ab1613-8e8b-40e4-9679-b1eb6eee09da",
   "metadata": {
    "colab": {
     "base_uri": "https://localhost:8080/"
    },
    "id": "42ab1613-8e8b-40e4-9679-b1eb6eee09da",
    "outputId": "cd15c24f-76c6-46d8-bc81-d22900b84043"
   },
   "outputs": [
    {
     "name": "stdout",
     "output_type": "stream",
     "text": [
      "Defaulting to user installation because normal site-packages is not writeable\n",
      "Requirement already satisfied: rouge in /home/asachd14/.local/lib/python3.11/site-packages (1.0.1)\n",
      "Requirement already satisfied: six in /packages/apps/jupyter/2023-10-09/lib/python3.11/site-packages (from rouge) (1.16.0)\n"
     ]
    }
   ],
   "source": [
    "# pip install rouge\n",
    "# pip install bert-score\n",
    "# !python -m pip install rouge"
   ]
  },
  {
   "cell_type": "code",
   "execution_count": 23,
   "id": "7ae5899c-390a-4c5e-ab2d-0c103c851b83",
   "metadata": {},
   "outputs": [],
   "source": [
    "from rouge import Rouge"
   ]
  },
  {
   "cell_type": "code",
   "execution_count": 28,
   "id": "cad872f4-705c-4437-b9db-c6dccba06bf9",
   "metadata": {},
   "outputs": [
    {
     "name": "stderr",
     "output_type": "stream",
     "text": [
      "[nltk_data] Downloading package punkt to /home/asachd14/nltk_data...\n",
      "[nltk_data]   Package punkt is already up-to-date!\n",
      "[nltk_data] Downloading package wordnet to /home/asachd14/nltk_data...\n",
      "[nltk_data]   Package wordnet is already up-to-date!\n"
     ]
    },
    {
     "data": {
      "text/plain": [
       "True"
      ]
     },
     "execution_count": 28,
     "metadata": {},
     "output_type": "execute_result"
    }
   ],
   "source": [
    "from nltk.translate import meteor_score\n",
    "import nltk\n",
    "from transformers import BertTokenizer\n",
    "from bert_score import BERTScorer\n",
    "from nltk.translate.bleu_score import corpus_bleu\n",
    "\n",
    "nltk.download('punkt')\n",
    "nltk.download('wordnet')"
   ]
  },
  {
   "cell_type": "code",
   "execution_count": null,
   "id": "812674db-04dc-4c2c-bf88-37386680a0d1",
   "metadata": {
    "colab": {
     "base_uri": "https://localhost:8080/"
    },
    "id": "812674db-04dc-4c2c-bf88-37386680a0d1",
    "outputId": "4ba743df-4449-4db0-fece-cdff339d490a"
   },
   "outputs": [
    {
     "name": "stdout",
     "output_type": "stream",
     "text": [
      "651\n"
     ]
    },
    {
     "name": "stderr",
     "output_type": "stream",
     "text": [
      "Some weights of RobertaModel were not initialized from the model checkpoint at roberta-large and are newly initialized: ['roberta.pooler.dense.weight', 'roberta.pooler.dense.bias']\n",
      "You should probably TRAIN this model on a down-stream task to be able to use it for predictions and inference.\n",
      "/home/asachd14/.local/lib/python3.10/site-packages/transformers/generation/utils.py:1260: UserWarning: Using the model-agnostic default `max_length` (=20) to control the generation length. We recommend setting `max_new_tokens` to control the maximum length of the generation.\n",
      "  warnings.warn(\n"
     ]
    }
   ],
   "source": [
    "rouge = Rouge()\n",
    "\n",
    "# Define the reference once since it doesn't change\n",
    "\n",
    "# Initialize a list to store the METEOR scores for each item\n",
    "meteor_scores = []\n",
    "corpus_scores = []\n",
    "rouge_scores = []\n",
    "bert_scores = []\n",
    "train_data_list = []\n",
    "# print(type(train_data))\n",
    "# sample = train_data.sample(frac=0.05, random_state=42) \n",
    "sample = train_data.select(range(int(len(train_data) * 0.005)))\n",
    "print(len(sample))\n",
    "for i in range(len(sample)):\n",
    "    train_data_list.append(sample[i])\n",
    "\n",
    "tokenizer_bert_score = BertTokenizer.from_pretrained(\"bert-base-uncased\")\n",
    "scorer = BERTScorer(lang=\"en\", rescale_with_baseline=True)\n",
    "\n",
    "for item in train_data_list:\n",
    "    #print('ANswers are',item['answers'])\n",
    "    reference = nltk.word_tokenize(item['question'])\n",
    "    hypothesis_array = run_model(f\"Context: {item['context']} [SEP] Answer: {' '.join(item['answers'])}\")\n",
    "    final_hypothesis_array = [nltk.word_tokenize(h) for h in hypothesis_array]\n",
    "\n",
    "    # print(\"Reference:\", reference)\n",
    "    # print(\"Hyopthesis:\", final_hypothesis_array[0])\n",
    "    \n",
    "    # Calculate METEOR score for each hypothesis\n",
    "    # print(\"METEOR\")\n",
    "    meteor = meteor_score.meteor_score([reference], final_hypothesis_array[0])\n",
    "    meteor_scores.append(meteor)\n",
    "    # print(meteor)\n",
    "\n",
    "    # Calculate BLEU score for each hypothesis\n",
    "    # print(\"BLEU\")\n",
    "    corpus_bleud = corpus_bleu([reference], final_hypothesis_array)\n",
    "    corpus_scores.append(corpus_bleud)\n",
    "    # print(corpus_bleud)\n",
    "\n",
    "    # Calculate ROUGE scores\n",
    "    # print(\"ROUGE\")\n",
    "    reference_rouge = \" \".join(nltk.word_tokenize(item['question']))  # Convert the list to a string\n",
    "    hypothesis_rouge = \" \".join(run_model(f\"Context: {item['context']} [SEP] Answer: {' '.join(item['answers'])}\"))\n",
    "    item_scores_rouge = rouge.get_scores(reference_rouge, hypothesis_rouge)\n",
    "    rouge_scores.append(item_scores_rouge)\n",
    "    # print(item_scores_rouge)\n",
    "\n",
    "    # Calculate BERTscore scores\n",
    "    # print(\"BERTscore\")\n",
    "    reference_bert = \" \".join(tokenizer.tokenize(item['question']))\n",
    "    hypothesis_bert = \" \".join(run_model(f\"Context: {item['context']} [SEP] Answer: {' '.join(item['answers'])}\"))\n",
    "    P, R, F1 = scorer.score([reference_bert],[hypothesis_bert])\n",
    "\n",
    "    item_scores_bert = {\n",
    "        \"Precision\": P,\n",
    "        \"Recall\": R,\n",
    "        \"F1 Score\": F1,\n",
    "    }\n",
    "    bert_scores.append(item_scores_bert)\n",
    "    # print(item_scores_bert)\n",
    "    # print(item_scores_bert['Precision'])\n",
    "    # print(item_scores_bert['Recall'])\n",
    "    # print(item_scores_bert['F1 Score'])\n",
    "\n",
    "    \n",
    "\n",
    "average_meteor = sum(meteor_scores) / len(meteor_scores)\n",
    "print(f\"Average METEOR Score: {average_meteor:.2f}\")\n",
    "\n",
    "average_corpus = sum(corpus_scores) / len(corpus_scores)\n",
    "print(f\"Average corpus-BLEU Score: {average_corpus}\")  # Fixed metric name\n",
    "\n",
    "# average_rouge = sum(rouge_scores) / len(rouge_scores)\n",
    "# print(f\"Average Rouge Score: {average_rouge}\")"
   ]
  },
  {
   "cell_type": "code",
   "execution_count": null,
   "id": "9bd7a90a-e37f-458e-affb-010251d1261e",
   "metadata": {},
   "outputs": [],
   "source": [
    "for i , itb in enumerate(bert_scores):\n",
    "    print(f\"BERTScore Scores for Item {i + 1}:\")\n",
    "    print(\"Precision:\" ,itb['Precision'])\n",
    "    print(\"Recall:\" ,itb['Recall'])\n",
    "    print(\"F1 Score:\" ,itb['F1 Score'])\n",
    "    print(\"\")"
   ]
  },
  {
   "cell_type": "code",
   "execution_count": null,
   "id": "1665a17f-f68f-46f1-bb68-7ea4eaf347db",
   "metadata": {},
   "outputs": [],
   "source": []
  }
 ],
 "metadata": {
  "colab": {
   "provenance": []
  },
  "kernelspec": {
   "display_name": "pytorch-gpu-1.13.1",
   "language": "python",
   "name": "pytorch-gpu-1.13.1"
  },
  "language_info": {
   "codemirror_mode": {
    "name": "ipython",
    "version": 3
   },
   "file_extension": ".py",
   "mimetype": "text/x-python",
   "name": "python",
   "nbconvert_exporter": "python",
   "pygments_lexer": "ipython3",
   "version": "3.10.12"
  }
 },
 "nbformat": 4,
 "nbformat_minor": 5
}
